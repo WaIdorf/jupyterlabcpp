{
 "cells": [
  {
   "cell_type": "code",
   "execution_count": 1,
   "metadata": {},
   "outputs": [
    {
     "name": "stdout",
     "output_type": "stream",
     "text": [
      "8\n",
      "paper\n",
      "1.123456789\n",
      "1.123456836\n",
      "takatukaland 8 some text \n",
      "1.123456789 der Hund \n",
      "paperpaper2.246913625\n",
      "23\n"
     ]
    }
   ],
   "source": [
    "#include <iostream>\n",
    "#include <iomanip>\n",
    "using namespace std;\n",
    "\n",
    "//cout<<\"test1\";\n",
    "//cout<<\"\\n\"; //comment\n",
    "//cout<<\"kataka\"<< endl; /* dfjsadfjsalfjsalfjsalfjsdfjsf\n",
    "//sfdhsdkfhskfhskfh*/\n",
    "\n",
    "\n",
    "double a = 1.123456789;\n",
    "float s = 1.123456789;\n",
    "char d = '8';\n",
    "bool t = true;\n",
    "string f = \"paper\";\n",
    "cout<<d<<endl;\n",
    "cout<<f<<endl;\n",
    "cout<<setprecision(10);\n",
    "cout<<a<<endl;\n",
    "cout<<s<<endl;\n",
    "cout<<\"takatukaland \"<<d<<\" some text \\n\"<<a<<\" der Hund \\n\";\n",
    "cout<<f+f<<a+s<<endl;\n",
    "int q=4, w=3, e=4, r=2, u=1, y=9;\n",
    "cout << q+e-w+2*y<< endl;\n",
    "return 0;"
   ]
  },
  {
   "cell_type": "code",
   "execution_count": null,
   "metadata": {},
   "outputs": [],
   "source": []
  }
 ],
 "metadata": {
  "kernelspec": {
   "display_name": "C++17",
   "language": "C++17",
   "name": "xcpp17"
  },
  "language_info": {
   "codemirror_mode": "text/x-c++src",
   "file_extension": ".cpp",
   "mimetype": "text/x-c++src",
   "name": "c++",
   "version": "17"
  }
 },
 "nbformat": 4,
 "nbformat_minor": 4
}
